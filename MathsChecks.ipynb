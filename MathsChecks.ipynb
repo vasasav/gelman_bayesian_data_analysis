{
 "cells": [
  {
   "cell_type": "markdown",
   "metadata": {},
   "source": [
    "# Chapter 3"
   ]
  },
  {
   "cell_type": "markdown",
   "metadata": {},
   "source": [
    "## posterior predictive distribution\n",
    "\n",
    "Working out $p\\left(\\tilde{y}\\,\\Big| \\, y\\right)$"
   ]
  },
  {
   "cell_type": "code",
   "execution_count": 37,
   "metadata": {},
   "outputs": [
    {
     "data": {
      "text/plain": [
       "((1/b)^q) + (-a*(1/b)^q*q/b)*eps + Order(eps^2)"
      ]
     },
     "execution_count": 37,
     "metadata": {},
     "output_type": "execute_result"
    }
   ],
   "source": [
    "var('y', 'mu', 'q', 'n', 'ybar', 'a', 'b', 'c', 'eps', 's')\n",
    "assume(q>0)\n",
    "assume(n>1)\n",
    "assume(a>0)\n",
    "assume(b^2<4*a*c)\n",
    "\n",
    "((1/(eps*a+b))^q).series(eps,2)"
   ]
  },
  {
   "cell_type": "code",
   "execution_count": 50,
   "metadata": {},
   "outputs": [
    {
     "data": {
      "text/plain": [
       "2*sqrt(1/2)*sqrt(pi)*sigma*e^(-1/2*(n*y^2 - 2*n*y*ybar + n*ybar^2)/((n + 1)*sigma^2))/sqrt(n + 1)"
      ]
     },
     "execution_count": 50,
     "metadata": {},
     "output_type": "execute_result"
    }
   ],
   "source": [
    "var('y', 'mu', 'q', 'n', 'ybar', 'a', 'b', 'c', 'eps', 's', 'sigma')\n",
    "assume(s>0)\n",
    "assume(n>1)\n",
    "assume(sigma>0)\n",
    "\n",
    "integrate(exp(-((y-mu)^2+n*(ybar-mu)^2)/(2*sigma^2)), mu, -infinity, infinity)"
   ]
  },
  {
   "cell_type": "code",
   "execution_count": null,
   "metadata": {},
   "outputs": [],
   "source": [
    "e^(\n",
    "    -1/2*(n*y^2 - 2*n*y*ybar + n*ybar^2)/((n + 1)*sigma)\n",
    ")\n",
    "\n",
    "/sqrt((n + 1)/sigma)"
   ]
  },
  {
   "cell_type": "markdown",
   "metadata": {},
   "source": [
    "## Chapter 5"
   ]
  },
  {
   "cell_type": "markdown",
   "metadata": {},
   "source": [
    "An annoying limit that keeps creeping up"
   ]
  },
  {
   "cell_type": "code",
   "execution_count": 6,
   "metadata": {},
   "outputs": [
    {
     "data": {
      "text/plain": [
       "2*x^(-2) + 2*x^(-1) + Order(x^2)"
      ]
     },
     "execution_count": 6,
     "metadata": {},
     "output_type": "execute_result"
    }
   ],
   "source": [
    "var('x')\n",
    "assume(x>0)\n",
    "\n",
    "((1/x+1)^2).series(x, 2)"
   ]
  },
  {
   "cell_type": "code",
   "execution_count": null,
   "metadata": {},
   "outputs": [],
   "source": []
  }
 ],
 "metadata": {
  "kernelspec": {
   "display_name": "SageMath 9.0",
   "language": "sage",
   "name": "sagemath"
  },
  "language_info": {
   "codemirror_mode": {
    "name": "ipython",
    "version": 3
   },
   "file_extension": ".py",
   "mimetype": "text/x-python",
   "name": "python",
   "nbconvert_exporter": "python",
   "pygments_lexer": "ipython3",
   "version": "3.8.10"
  }
 },
 "nbformat": 4,
 "nbformat_minor": 4
}
